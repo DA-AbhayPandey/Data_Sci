{
 "cells": [
  {
   "cell_type": "code",
   "execution_count": 8,
   "id": "904bc99f",
   "metadata": {},
   "outputs": [],
   "source": [
    "import scipy.stats as st\n",
    "import numpy as np\n",
    "#imported lib to perform calculation"
   ]
  },
  {
   "cell_type": "code",
   "execution_count": 16,
   "id": "0205a29d",
   "metadata": {},
   "outputs": [
    {
     "data": {
      "text/plain": [
       "1.6448536269514722"
      ]
     },
     "execution_count": 16,
     "metadata": {},
     "output_type": "execute_result"
    }
   ],
   "source": [
    "st.norm.ppf(0.95)\n",
    "#calculate z value"
   ]
  },
  {
   "cell_type": "code",
   "execution_count": 26,
   "id": "c71ee8c3",
   "metadata": {},
   "outputs": [],
   "source": [
    "#given data \n",
    "#Ho means mean is not equal to 82 or near 82\n",
    "#Ha means mean is greater than 82\n",
    "alp = 0.05\n",
    "mn = 82\n",
    "std = 20\n",
    "sample_pop = 81\n",
    "sample_mn = 90"
   ]
  },
  {
   "cell_type": "code",
   "execution_count": 22,
   "id": "0f6a0cab",
   "metadata": {},
   "outputs": [
    {
     "data": {
      "text/plain": [
       "3.5999999999999996"
      ]
     },
     "execution_count": 22,
     "metadata": {},
     "output_type": "execute_result"
    }
   ],
   "source": [
    "z_cal = (sample_mn-mn)/(std/np.sqrt(sample_pop))\n",
    "z_cal"
   ]
  },
  {
   "cell_type": "code",
   "execution_count": 27,
   "id": "8c24fe99",
   "metadata": {},
   "outputs": [
    {
     "data": {
      "text/plain": [
       "1.6448536269514722"
      ]
     },
     "execution_count": 27,
     "metadata": {},
     "output_type": "execute_result"
    }
   ],
   "source": [
    "z_table = st.norm.ppf(1-alp)\n",
    "z_table"
   ]
  },
  {
   "cell_type": "code",
   "execution_count": 29,
   "id": "e2b0fa75",
   "metadata": {},
   "outputs": [
    {
     "name": "stdout",
     "output_type": "stream",
     "text": [
      "Ha is proven right\n"
     ]
    }
   ],
   "source": [
    "if z_table > z_cal:\n",
    "    print(\"Ho is proven right\")\n",
    "else :\n",
    "    print(\"Ha is proven right\")"
   ]
  },
  {
   "cell_type": "code",
   "execution_count": null,
   "id": "f11f674a",
   "metadata": {},
   "outputs": [],
   "source": []
  }
 ],
 "metadata": {
  "kernelspec": {
   "display_name": "Python 3 (ipykernel)",
   "language": "python",
   "name": "python3"
  },
  "language_info": {
   "codemirror_mode": {
    "name": "ipython",
    "version": 3
   },
   "file_extension": ".py",
   "mimetype": "text/x-python",
   "name": "python",
   "nbconvert_exporter": "python",
   "pygments_lexer": "ipython3",
   "version": "3.11.7"
  }
 },
 "nbformat": 4,
 "nbformat_minor": 5
}
