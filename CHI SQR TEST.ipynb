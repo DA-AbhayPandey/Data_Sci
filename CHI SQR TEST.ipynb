{
 "cells": [
  {
   "cell_type": "code",
   "execution_count": 43,
   "id": "a4faac69",
   "metadata": {},
   "outputs": [],
   "source": [
    "import numpy as np\n",
    "from scipy.stats import chi2_contingency"
   ]
  },
  {
   "cell_type": "markdown",
   "id": "fde14f4d",
   "metadata": {},
   "source": [
    "# Example 1"
   ]
  },
  {
   "cell_type": "code",
   "execution_count": 41,
   "id": "0810152b",
   "metadata": {},
   "outputs": [],
   "source": [
    "#Dice roll 120 times\n",
    "#Ho dice is fair\n",
    "#Ha dice is not fair\n",
    "alp = 0.05\n",
    "chi_Dvalue = 11.07\n",
    "df = 6-1 #6 outcomes minus one dice\n",
    "dice_ob = np.array([22,17,20,26,22,13])\n",
    "dice_ex = np.array([20,20,20,20,20,20])"
   ]
  },
  {
   "cell_type": "code",
   "execution_count": 19,
   "id": "457eec90",
   "metadata": {},
   "outputs": [
    {
     "data": {
      "text/plain": [
       "5.1000000000000005"
      ]
     },
     "execution_count": 19,
     "metadata": {},
     "output_type": "execute_result"
    }
   ],
   "source": [
    "chi_Dcal = np.sum(np.square(dice_ob-dice_ex)/dice_ex)\n",
    "chi_Dcal"
   ]
  },
  {
   "cell_type": "code",
   "execution_count": 20,
   "id": "38d01eef",
   "metadata": {},
   "outputs": [
    {
     "name": "stdout",
     "output_type": "stream",
     "text": [
      "Ho is right, Dice is fair\n"
     ]
    }
   ],
   "source": [
    "if chi_Dcal < chi_Dvalue:\n",
    "    print(\"Ho is right, Dice is fair\")\n",
    "else:\n",
    "    print(\"Ha is right, Dice is not fair\")"
   ]
  },
  {
   "cell_type": "markdown",
   "id": "e2956973",
   "metadata": {},
   "source": [
    "# Example 2"
   ]
  },
  {
   "cell_type": "code",
   "execution_count": 22,
   "id": "e5109b64",
   "metadata": {},
   "outputs": [],
   "source": [
    "#Significant associate between gender & Music\n",
    "#Sample of 235 people at 5% significant\n",
    "#Ho no associate\n",
    "#Ha associate\n",
    "alp_ass = 0.05\n",
    "chi_Avalue = 7.815 \n",
    "df_ass = 3 #(row-1)*(col-1) = (4-1)*(2-1)=3\n",
    "# column represent d/f type of music\n",
    "row1 = np.array([40,45,25,10]) #row1 represent male\n",
    "row2 = np.array([35,30,20,30]) #row2 represent female"
   ]
  },
  {
   "cell_type": "code",
   "execution_count": 23,
   "id": "f347966a",
   "metadata": {},
   "outputs": [
    {
     "data": {
      "text/plain": [
       "(120, 115)"
      ]
     },
     "execution_count": 23,
     "metadata": {},
     "output_type": "execute_result"
    }
   ],
   "source": [
    "sum_r1 = np.sum(row1)\n",
    "sum_r2 = np.sum(row2)\n",
    "(sum_r1,sum_r2)"
   ]
  },
  {
   "cell_type": "code",
   "execution_count": 27,
   "id": "48344391",
   "metadata": {},
   "outputs": [
    {
     "data": {
      "text/plain": [
       "array([120, 115])"
      ]
     },
     "execution_count": 27,
     "metadata": {},
     "output_type": "execute_result"
    }
   ],
   "source": [
    "sum_row = np.array([sum_r1,sum_r2])\n",
    "sum_row"
   ]
  },
  {
   "cell_type": "code",
   "execution_count": 25,
   "id": "ac8ec2f3",
   "metadata": {},
   "outputs": [
    {
     "data": {
      "text/plain": [
       "array([75, 75, 45, 40])"
      ]
     },
     "execution_count": 25,
     "metadata": {},
     "output_type": "execute_result"
    }
   ],
   "source": [
    "sum_col = row1+row2\n",
    "sum_col"
   ]
  },
  {
   "cell_type": "code",
   "execution_count": 36,
   "id": "56fc8502",
   "metadata": {},
   "outputs": [],
   "source": [
    "exp = []\n",
    "for i in sum_row:\n",
    "    for j in sum_col:\n",
    "        value=((i*j)/235)\n",
    "        exp.append(value)\n",
    "        "
   ]
  },
  {
   "cell_type": "code",
   "execution_count": 47,
   "id": "a4f385af",
   "metadata": {},
   "outputs": [
    {
     "data": {
      "text/plain": [
       "13.788747987117553"
      ]
     },
     "execution_count": 47,
     "metadata": {},
     "output_type": "execute_result"
    }
   ],
   "source": [
    "obj = np.array([40,45,25,10,35,30,20,30])\n",
    "chi_Acal = np.sum((np.square(obj-exp))/exp)\n",
    "chi_Acal"
   ]
  },
  {
   "cell_type": "code",
   "execution_count": 49,
   "id": "623ef7bd",
   "metadata": {},
   "outputs": [
    {
     "name": "stdout",
     "output_type": "stream",
     "text": [
      "Ha is right, \n"
     ]
    }
   ],
   "source": [
    "if chi_Avalue < chi_Acal:\n",
    "    print(\"Ha is right, \")\n",
    "else:\n",
    "    print(\"Ho is right,\")"
   ]
  },
  {
   "cell_type": "code",
   "execution_count": null,
   "id": "e2de4cf1",
   "metadata": {},
   "outputs": [],
   "source": []
  }
 ],
 "metadata": {
  "kernelspec": {
   "display_name": "Python 3 (ipykernel)",
   "language": "python",
   "name": "python3"
  },
  "language_info": {
   "codemirror_mode": {
    "name": "ipython",
    "version": 3
   },
   "file_extension": ".py",
   "mimetype": "text/x-python",
   "name": "python",
   "nbconvert_exporter": "python",
   "pygments_lexer": "ipython3",
   "version": "3.11.7"
  }
 },
 "nbformat": 4,
 "nbformat_minor": 5
}
