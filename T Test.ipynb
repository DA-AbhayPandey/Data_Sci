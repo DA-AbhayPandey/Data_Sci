{
 "cells": [
  {
   "cell_type": "code",
   "execution_count": 11,
   "id": "22750a2e",
   "metadata": {},
   "outputs": [],
   "source": [
    "import scipy.stats as st\n",
    "import numpy as np"
   ]
  },
  {
   "cell_type": "code",
   "execution_count": 15,
   "id": "7feb0924",
   "metadata": {},
   "outputs": [
    {
     "data": {
      "text/plain": [
       "-1.7108820799094282"
      ]
     },
     "execution_count": 15,
     "metadata": {},
     "output_type": "execute_result"
    }
   ],
   "source": [
    "st.t.ppf(0.05,24)\n",
    "# here is alpha is 0.05 and Tn is 25-1 =24"
   ]
  },
  {
   "cell_type": "code",
   "execution_count": 16,
   "id": "b93caa3d",
   "metadata": {},
   "outputs": [],
   "source": [
    "T_table = st.t.ppf(0.05,24)\n",
    "\n",
    "#given data \n",
    "#Ho means mean is equal to 150 gram\n",
    "#Ha means mean is less than 150 gram\n",
    "alp = 0.05\n",
    "mn = 150\n",
    "sample_std = 5\n",
    "sample_pop = 25\n",
    "sample_mn = 148"
   ]
  },
  {
   "cell_type": "code",
   "execution_count": 17,
   "id": "baf22aff",
   "metadata": {},
   "outputs": [
    {
     "data": {
      "text/plain": [
       "-2.0"
      ]
     },
     "execution_count": 17,
     "metadata": {},
     "output_type": "execute_result"
    }
   ],
   "source": [
    "T_cal = (sample_mn-mn)/(sample_std/(np.sqrt(sample_pop)))\n",
    "T_cal"
   ]
  },
  {
   "cell_type": "code",
   "execution_count": 18,
   "id": "002014e5",
   "metadata": {},
   "outputs": [
    {
     "name": "stdout",
     "output_type": "stream",
     "text": [
      "Ha is right\n"
     ]
    }
   ],
   "source": [
    "if T_table < T_cal :\n",
    "    print (\"Ho is right\")\n",
    "else :\n",
    "    print (\"Ha is right\")"
   ]
  },
  {
   "cell_type": "markdown",
   "id": "71f5eec4",
   "metadata": {},
   "source": [
    "# Example 2"
   ]
  },
  {
   "cell_type": "code",
   "execution_count": 19,
   "id": "3aa0ac96",
   "metadata": {},
   "outputs": [],
   "source": [
    "\n",
    "#given data \n",
    "#Ho means Team A and Team B work performance is equal Ta - Tb = 0\n",
    "#Ha means Team A and Team B work performance is not equal Ta - Tb =! 0 \n",
    "\n",
    "T_tab = st.t.ppf(1-0.025,38)    #used 1-0.025 to get T Test in positive\n",
    "                                # here is alpha is 0.025 (divided 0.5 into 2 part bcoz we have 2 team) and \n",
    "                                #Tn is 20+20-2 =38(sample pop is 20 from Ta & 20 from Tb)\n",
    "\n",
    "alph = 0.025\n",
    "Ta_mn = 80\n",
    "Tb_mn = 75\n",
    "Ta_sample_std = 5\n",
    "Tb_sample_std = 6\n",
    "Ta_sample_pop = 20\n",
    "Tb_sample_pop = 20\n"
   ]
  },
  {
   "cell_type": "code",
   "execution_count": 20,
   "id": "fbe04161",
   "metadata": {},
   "outputs": [
    {
     "data": {
      "text/plain": [
       "2.024394164575136"
      ]
     },
     "execution_count": 20,
     "metadata": {},
     "output_type": "execute_result"
    }
   ],
   "source": [
    "T_tab"
   ]
  },
  {
   "cell_type": "code",
   "execution_count": 40,
   "id": "cca78162",
   "metadata": {},
   "outputs": [
    {
     "data": {
      "text/plain": [
       "2.862991671569341"
      ]
     },
     "execution_count": 40,
     "metadata": {},
     "output_type": "execute_result"
    }
   ],
   "source": [
    "T_Calc = (Ta_mn-Tb_mn)/(np.sqrt((Ta_sample_std**2/Ta_sample_pop)+(Tb_sample_std**2/Tb_sample_pop)))\n",
    "T_Calc"
   ]
  },
  {
   "cell_type": "code",
   "execution_count": 41,
   "id": "2987c7f9",
   "metadata": {},
   "outputs": [
    {
     "name": "stdout",
     "output_type": "stream",
     "text": [
      "Ha is right\n"
     ]
    }
   ],
   "source": [
    "if T_tab-T_Calc == 0 :\n",
    "    print (\"Ho is right\")\n",
    "else :\n",
    "    print (\"Ha is right\")"
   ]
  },
  {
   "cell_type": "markdown",
   "id": "1f8ea7ea",
   "metadata": {},
   "source": [
    "# EXAMPLE 3"
   ]
  },
  {
   "cell_type": "code",
   "execution_count": null,
   "id": "97986a5e",
   "metadata": {},
   "outputs": [],
   "source": []
  },
  {
   "cell_type": "code",
   "execution_count": null,
   "id": "0acc4234",
   "metadata": {},
   "outputs": [],
   "source": []
  }
 ],
 "metadata": {
  "kernelspec": {
   "display_name": "Python 3 (ipykernel)",
   "language": "python",
   "name": "python3"
  },
  "language_info": {
   "codemirror_mode": {
    "name": "ipython",
    "version": 3
   },
   "file_extension": ".py",
   "mimetype": "text/x-python",
   "name": "python",
   "nbconvert_exporter": "python",
   "pygments_lexer": "ipython3",
   "version": "3.11.7"
  }
 },
 "nbformat": 4,
 "nbformat_minor": 5
}
